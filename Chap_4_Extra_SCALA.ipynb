{
 "cells": [
  {
   "cell_type": "code",
   "execution_count": 1,
   "metadata": {},
   "outputs": [
    {
     "data": {
      "text/plain": [
       "Intitializing Scala interpreter ..."
      ]
     },
     "metadata": {},
     "output_type": "display_data"
    },
    {
     "data": {
      "text/plain": [
       "Spark Web UI available at http://EM2021002778.bosonit.local:4041\n",
       "SparkContext available as 'sc' (version = 3.1.1, master = local[*], app id = local-1620725581339)\n",
       "SparkSession available as 'spark'\n"
      ]
     },
     "metadata": {},
     "output_type": "display_data"
    },
    {
     "data": {
      "text/plain": [
       "import org.apache.spark.sql.functions.avg\r\n",
       "import org.apache.spark.sql.SparkSession\r\n"
      ]
     },
     "execution_count": 1,
     "metadata": {},
     "output_type": "execute_result"
    }
   ],
   "source": [
    "import org.apache.spark.sql.functions.avg\n",
    "import org.apache.spark.sql.SparkSession"
   ]
  },
  {
   "cell_type": "code",
   "execution_count": 2,
   "metadata": {},
   "outputs": [
    {
     "data": {
      "text/plain": [
       "spark: org.apache.spark.sql.SparkSession = org.apache.spark.sql.SparkSession@19685230\r\n"
      ]
     },
     "execution_count": 2,
     "metadata": {},
     "output_type": "execute_result"
    }
   ],
   "source": [
    "// Create a DataFrame using SparkSession\n",
    "val spark = SparkSession\n",
    ".builder\n",
    ".appName(\"cap_4_extra\")\n",
    ".getOrCreate()"
   ]
  },
  {
   "cell_type": "markdown",
   "metadata": {},
   "source": [
    "#### GlobalTempView vs TempView"
   ]
  },
  {
   "cell_type": "markdown",
   "metadata": {},
   "source": [
    "Global es para que esten disponibles para todas las sparksessions en un cluster, y las sensillas, solo para la sesion donde se ha creado."
   ]
  },
  {
   "cell_type": "markdown",
   "metadata": {},
   "source": [
    "#### Leer los AVRO, Parquet, JSON y CSV escritos en el cap3"
   ]
  },
  {
   "cell_type": "code",
   "execution_count": 3,
   "metadata": {},
   "outputs": [
    {
     "data": {
      "text/plain": [
       "df_extra_csv: org.apache.spark.sql.DataFrame = [TX: string, Red: string ... 1 more field]\r\n",
       "df_extra_json: org.apache.spark.sql.DataFrame = [Color: string, Count: bigint ... 1 more field]\r\n",
       "df_extra_avro: org.apache.spark.sql.DataFrame = [State: string, Color: string ... 1 more field]\r\n"
      ]
     },
     "execution_count": 3,
     "metadata": {},
     "output_type": "execute_result"
    }
   ],
   "source": [
    "// Use CSV\n",
    "val df_extra_csv = spark.read.format(\"csv\")\n",
    ".option(\"inferSchema\", \"true\")\n",
    ".option(\"header\", \"true\")\n",
    ".option(\"mode\", \"PERMISSIVE\")\n",
    ".load(\"./mnm_csv/*\")\n",
    "\n",
    "// Use JSON\n",
    "val df_extra_json = spark.read.format(\"json\").load(\"./mnmJson2/*\")\n",
    "\n",
    "//AVRO\n",
    "val df_extra_avro = spark.read.format(\"avro\")\n",
    ".load(\"./mnmDF_avro/*\")"
   ]
  },
  {
   "cell_type": "code",
   "execution_count": 4,
   "metadata": {},
   "outputs": [
    {
     "name": "stdout",
     "output_type": "stream",
     "text": [
      "+---+------+---+\n",
      "| TX|   Red| 20|\n",
      "+---+------+---+\n",
      "| NV|  Blue| 66|\n",
      "| CO|  Blue| 79|\n",
      "| OR|  Blue| 71|\n",
      "| WA|Yellow| 93|\n",
      "| WY|  Blue| 16|\n",
      "| CA|Yellow| 53|\n",
      "| WA| Green| 60|\n",
      "| OR| Green| 71|\n",
      "| TX| Green| 68|\n",
      "| NV| Green| 59|\n",
      "| AZ| Brown| 95|\n",
      "| WA|Yellow| 20|\n",
      "| AZ|  Blue| 75|\n",
      "| OR| Brown| 72|\n",
      "| NV|   Red| 98|\n",
      "| WY|Orange| 45|\n",
      "| CO|  Blue| 52|\n",
      "| TX| Brown| 94|\n",
      "| CO|   Red| 82|\n",
      "| CO|   Red| 12|\n",
      "+---+------+---+\n",
      "only showing top 20 rows\n",
      "\n",
      "+------+-----+-----+\n",
      "| Color|Count|State|\n",
      "+------+-----+-----+\n",
      "|   Red|   20|   TX|\n",
      "|  Blue|   66|   NV|\n",
      "|  Blue|   79|   CO|\n",
      "|  Blue|   71|   OR|\n",
      "|Yellow|   93|   WA|\n",
      "|  Blue|   16|   WY|\n",
      "|Yellow|   53|   CA|\n",
      "| Green|   60|   WA|\n",
      "| Green|   71|   OR|\n",
      "| Green|   68|   TX|\n",
      "| Green|   59|   NV|\n",
      "| Brown|   95|   AZ|\n",
      "|Yellow|   20|   WA|\n",
      "|  Blue|   75|   AZ|\n",
      "| Brown|   72|   OR|\n",
      "|   Red|   98|   NV|\n",
      "|Orange|   45|   WY|\n",
      "|  Blue|   52|   CO|\n",
      "| Brown|   94|   TX|\n",
      "|   Red|   82|   CO|\n",
      "+------+-----+-----+\n",
      "only showing top 20 rows\n",
      "\n",
      "+-----+------+-----+\n",
      "|State| Color|Count|\n",
      "+-----+------+-----+\n",
      "|   TX|   Red|   20|\n",
      "|   NV|  Blue|   66|\n",
      "|   CO|  Blue|   79|\n",
      "|   OR|  Blue|   71|\n",
      "|   WA|Yellow|   93|\n",
      "|   WY|  Blue|   16|\n",
      "|   CA|Yellow|   53|\n",
      "|   WA| Green|   60|\n",
      "|   OR| Green|   71|\n",
      "|   TX| Green|   68|\n",
      "|   NV| Green|   59|\n",
      "|   AZ| Brown|   95|\n",
      "|   WA|Yellow|   20|\n",
      "|   AZ|  Blue|   75|\n",
      "|   OR| Brown|   72|\n",
      "|   NV|   Red|   98|\n",
      "|   WY|Orange|   45|\n",
      "|   CO|  Blue|   52|\n",
      "|   TX| Brown|   94|\n",
      "|   CO|   Red|   82|\n",
      "+-----+------+-----+\n",
      "only showing top 20 rows\n",
      "\n"
     ]
    }
   ],
   "source": [
    "df_extra_csv.show()\n",
    "df_extra_json.show()\n",
    "df_extra_avro.show()"
   ]
  }
 ],
 "metadata": {
  "kernelspec": {
   "display_name": "spylon-kernel",
   "language": "scala",
   "name": "spylon-kernel"
  },
  "language_info": {
   "codemirror_mode": "text/x-scala",
   "file_extension": ".scala",
   "help_links": [
    {
     "text": "MetaKernel Magics",
     "url": "https://metakernel.readthedocs.io/en/latest/source/README.html"
    }
   ],
   "mimetype": "text/x-scala",
   "name": "scala",
   "pygments_lexer": "scala",
   "version": "0.4.1"
  }
 },
 "nbformat": 4,
 "nbformat_minor": 4
}
